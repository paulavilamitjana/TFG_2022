{
  "nbformat": 4,
  "nbformat_minor": 0,
  "metadata": {
    "colab": {
      "name": "HISTOGRAMES16_06.ipynb",
      "provenance": []
    },
    "kernelspec": {
      "name": "python3",
      "display_name": "Python 3"
    },
    "language_info": {
      "name": "python"
    }
  },
  "cells": [
    {
      "cell_type": "code",
      "source": [
        "from google.colab import drive\n",
        "drive.mount('/content/drive')"
      ],
      "metadata": {
        "colab": {
          "base_uri": "https://localhost:8080/"
        },
        "id": "V9H4xucsa4ty",
        "outputId": "ff6fd447-1e35-4471-c805-fb32e9d358d5"
      },
      "execution_count": null,
      "outputs": [
        {
          "output_type": "stream",
          "name": "stdout",
          "text": [
            "Mounted at /content/drive\n"
          ]
        }
      ]
    },
    {
      "cell_type": "code",
      "execution_count": null,
      "metadata": {
        "id": "JBGbgZSJxjmX"
      },
      "outputs": [],
      "source": [
        "import pandas as pd \n",
        "import numpy as np \n",
        "from matplotlib import pyplot as plt \n",
        "HI=pd.read_csv('/content/drive/MyDrive/TFG/Histogrames (AUDIOGRAMES PER EDATS)/ANYS50.txt',encoding = 'latin-1')\n",
        "DF = HI.sort_values(by='AudFec', ascending=True)\n",
        "HI.head()"
      ]
    },
    {
      "cell_type": "code",
      "execution_count": null,
      "metadata": {
        "id": "0db94d30"
      },
      "outputs": [],
      "source": [
        "# defineixo les variable input o les varibles independents x amb la variable output o variable dependent y\n",
        "Y = HI.AudAe0125D\n",
        "\n",
        "data = np.array(Y)\n",
        "\n",
        "n, bins, patches=plt.hist(data,bins=20,density=True)\n",
        "plt.xlim(-10,120)\n",
        "plt.xlabel(\"nivell de pressió sonora(db-HZ)\")\n",
        "plt.ylabel(\"Probability\")\n",
        "plt.title(\"Histogram rang 50 Frequencia 125\")\n",
        "plt.show()\n"
      ]
    },
    {
      "cell_type": "code",
      "source": [
        "import matplotlib.pyplot as plt\n",
        "# defineixo les variable input o les varibles independents x amb la variable output o variable dependent y \n",
        "X = HI.AudFec\n",
        "Y = HI.AudAe0250D\n",
        "\n",
        "data = np.array(Y)\n",
        "\n",
        "n, bins, patches=plt.hist(data,bins=20,density=True)\n",
        "plt.xlim(-10,120)\n",
        "plt.xlabel(\"nivell de pressió sonora(db-HZ)\")\n",
        "plt.ylabel(\"Probability\")\n",
        "plt.title(\"Histogram rang 50 Frequencia 250\")\n",
        "plt.show()\n",
        "\n"
      ],
      "metadata": {
        "id": "0KE0Z8sVTbRv"
      },
      "execution_count": null,
      "outputs": []
    },
    {
      "cell_type": "code",
      "source": [
        "import matplotlib.pyplot as plt\n",
        "# defineixo les variable input o les varibles independents x amb la variable output o variable dependent y \n",
        "X = HI.AudFec\n",
        "Y = HI.AudAe0500D\n",
        "\n",
        "data = np.array(Y)\n",
        "\n",
        "n, bins, patches=plt.hist(data,bins=20,density=True)\n",
        "plt.xlim(-10,120)\n",
        "plt.xlabel(\"nivell de pressió sonora(db-HZ)\")\n",
        "plt.ylabel(\"Probability\")\n",
        "plt.title(\"Histogram rang 50 Frequencia 500\")\n",
        "plt.show()\n"
      ],
      "metadata": {
        "id": "4Ez038jFTfmp"
      },
      "execution_count": null,
      "outputs": []
    },
    {
      "cell_type": "code",
      "source": [
        "import matplotlib.pyplot as plt\n",
        "# defineixo les variable input o les varibles independents x amb la variable output o variable dependent y \n",
        "X = HI.AudFec\n",
        "Y = HI.AudAe1000D\n",
        "\n",
        "data = np.array(Y)\n",
        "\n",
        "n, bins, patches=plt.hist(data,bins=20,density=True)\n",
        "plt.xlim(-10,120)\n",
        "plt.xlabel(\"nivell de pressió sonora(db-HZ)\")\n",
        "plt.ylabel(\"Probability\")\n",
        "plt.title(\"Histogram rang 50 Frequencia 1000\")\n",
        "plt.show()\n"
      ],
      "metadata": {
        "id": "CXyUF9SSTgNl"
      },
      "execution_count": null,
      "outputs": []
    },
    {
      "cell_type": "code",
      "source": [
        "import matplotlib.pyplot as plt\n",
        "# defineixo les variable input o les varibles independents x amb la variable output o variable dependent y \n",
        "X = HI.AudFec\n",
        "Y = HI.AudAe2000D\n",
        "\n",
        "data = np.array(Y)\n",
        "\n",
        "n, bins, patches=plt.hist(data,bins=20,density=True)\n",
        "plt.xlim(-10,120)\n",
        "plt.xlabel(\"nivell de pressió sonora(db-HZ)\")\n",
        "plt.ylabel(\"Probability\")\n",
        "plt.title(\"Histogram rang 50 Frequencia 2000\")\n",
        "plt.show()\n"
      ],
      "metadata": {
        "id": "Zpj8YY-uTghA"
      },
      "execution_count": null,
      "outputs": []
    },
    {
      "cell_type": "code",
      "source": [
        "import matplotlib.pyplot as plt\n",
        "# defineixo les variable input o les varibles independents x amb la variable output o variable dependent y \n",
        "X = HI.AudFec\n",
        "Y = HI.AudAe4000D\n",
        "\n",
        "data = np.array(Y)\n",
        "\n",
        "n, bins, patches=plt.hist(data,bins=20,density=True)\n",
        "plt.xlim(-10,120)\n",
        "plt.xlabel(\"nivell de pressió sonora(db-HZ)\")\n",
        "plt.ylabel(\"Probability\")\n",
        "plt.title(\"Histogram rang 50 Frequencia 4000\")\n",
        "plt.show()\n"
      ],
      "metadata": {
        "id": "_ePzOYW_Tgs1"
      },
      "execution_count": null,
      "outputs": []
    },
    {
      "cell_type": "code",
      "source": [
        "import matplotlib.pyplot as plt\n",
        "# defineixo les variable input o les varibles independents x amb la variable output o variable dependent y \n",
        "X = HI.AudFec\n",
        "Y = HI.AudAe8000D\n",
        "\n",
        "data = np.array(Y)\n",
        "\n",
        "n, bins, patches=plt.hist(data,bins=20,density=True)\n",
        "plt.xlim(-10,120)\n",
        "plt.xlabel(\"nivell de pressió sonora(db-HZ)\")\n",
        "plt.ylabel(\"Probability\")\n",
        "plt.title(\"Histogram rang 50 Frequencia 8000\")\n",
        "plt.show()\n"
      ],
      "metadata": {
        "id": "zCLS2WhKTg7h"
      },
      "execution_count": null,
      "outputs": []
    }
  ]
}