{
  "cells": [
    {
      "cell_type": "code",
      "source": [
        "from google.colab import drive\n",
        "drive.mount('/content/drive')"
      ],
      "metadata": {
        "colab": {
          "base_uri": "https://localhost:8080/"
        },
        "id": "V9H4xucsa4ty",
        "outputId": "edef15ae-f41d-436c-8d5a-193ff509e3ca"
      },
      "id": "V9H4xucsa4ty",
      "execution_count": 162,
      "outputs": [
        {
          "output_type": "stream",
          "name": "stdout",
          "text": [
            "Drive already mounted at /content/drive; to attempt to forcibly remount, call drive.mount(\"/content/drive\", force_remount=True).\n"
          ]
        }
      ]
    },
    {
      "cell_type": "code",
      "execution_count": null,
      "id": "202a82d5",
      "metadata": {
        "id": "202a82d5"
      },
      "outputs": [],
      "source": [
        "import pandas as pd \n",
        "import numpy as np \n",
        "import datetime as datetime\n",
        "from datetime import timedelta\n",
        "\n",
        "df = pd.read_csv('/content/drive/MyDrive/TFG/PLOTS_16_05/USUARI40S_13.txt',encoding = 'latin-1')\n",
        "df.head()"
      ]
    },
    {
      "cell_type": "markdown",
      "source": [
        "Regressió i PLOTS"
      ],
      "metadata": {
        "id": "8SRz0yvMTv12"
      },
      "id": "8SRz0yvMTv12"
    },
    {
      "cell_type": "markdown",
      "source": [
        "Regressió lineal "
      ],
      "metadata": {
        "id": "FZVnn2vNUP-7"
      },
      "id": "FZVnn2vNUP-7"
    },
    {
      "cell_type": "code",
      "execution_count": null,
      "id": "0db94d30",
      "metadata": {
        "id": "0db94d30"
      },
      "outputs": [],
      "source": [
        "import matplotlib.pyplot as plt\n",
        "# defineixo les variable input o les varibles independents x amb la variable output o variable dependent y \n",
        "X = df.AudFec\n",
        "Y = df.AudAe8000D\n",
        "X = pd.to_datetime(X).astype(int)/ 10**9\n",
        "#print(X)\n",
        "#print(Y)\n",
        "\n",
        "np.array(X)\n",
        "#genera M i N de y= mx+n\n",
        "p = np.polyfit(X,Y, 1)\n",
        "print(p)\n",
        "\n",
        "xa = np.linspace(min(X),max(X), 1000)\n",
        "ya = p[0]*X + p[1]\n",
        "\n",
        "#print(xa)\n",
        "#print(ya)\n",
        "#print(Y)\n",
        "fig = plt.figure()\n",
        "plt.plot(X,ya)\n",
        "plt.plot(X,Y,'.')\n",
        "plt.savefig(\"Regressiolinal_polyfit_Freqüència0800.jpg\",dpi=300)\n",
        "plt.show()\n",
        "\n"
      ]
    },
    {
      "cell_type": "markdown",
      "source": [
        "Regressió lineal mostrant la distancia entre el valor real i la predicció"
      ],
      "metadata": {
        "id": "1h0CUS5JUFf_"
      },
      "id": "1h0CUS5JUFf_"
    },
    {
      "cell_type": "code",
      "source": [
        "import matplotlib.pyplot as plt\n",
        "# defineixo les variable input o les varibles independents x amb la variable output o variable dependent y \n",
        "X = df.AudFec\n",
        "Y = df.AudAe8000D\n",
        "X = pd.to_datetime(X).astype(int)/ 10**9\n",
        "#print(X)\n",
        "#print(Y)\n",
        "\n",
        "np.array(X)\n",
        "#genera M i N de y= mx+n\n",
        "p = np.polyfit(X,Y, 1)\n",
        "print(p)\n",
        "\n",
        "xa = np.linspace(min(X),max(X), 1000)\n",
        "ya = p[0]*X + p[1]\n",
        "\n",
        "#print(xa)\n",
        "#print(ya)\n",
        "#print(Y)\n",
        "fig = plt.figure()\n",
        "plt.plot(X,ya)\n",
        "plt.plot(X,Y,'.')\n",
        "plt.vlines(X,ya,Y)\n",
        "plt.savefig(\"Regressiolinealpolyfit_error8000.jpg\",dpi=300)\n",
        "plt.show()\n"
      ],
      "metadata": {
        "id": "aW9WF5ZHhlSX"
      },
      "id": "aW9WF5ZHhlSX",
      "execution_count": null,
      "outputs": []
    },
    {
      "cell_type": "markdown",
      "source": [
        "Càlcul de MSE, MAE i Coeficient de determinació"
      ],
      "metadata": {
        "id": "uyyrdJLVTyKN"
      },
      "id": "uyyrdJLVTyKN"
    },
    {
      "cell_type": "code",
      "source": [
        "#Calcul de Mean Squared Error \n",
        "\n",
        "def mse(actual, predicted):\n",
        "    actual = np.array(actual)\n",
        "    predicted = np.array(predicted)\n",
        "    differences = np.subtract(actual, predicted)\n",
        "    squared_differences = np.square(differences)\n",
        "    return squared_differences.mean()\n",
        "\n",
        "print(mse(Y, ya))\n"
      ],
      "metadata": {
        "id": "YHay1naRrPKw"
      },
      "id": "YHay1naRrPKw",
      "execution_count": null,
      "outputs": []
    },
    {
      "cell_type": "code",
      "source": [
        "#Calcul de Mean Absolute Error \n",
        "\n",
        "import numpy as np\n",
        "\n",
        "def mae(y_true, predictions):\n",
        "    y_true, predictions = np.array(y_true), np.array(predictions)\n",
        "    return np.mean(np.abs(y_true - predictions))\n",
        "\n",
        "\n",
        "\n",
        "print(mae(Y, ya))\n"
      ],
      "metadata": {
        "id": "4E8EgAK1uJei"
      },
      "id": "4E8EgAK1uJei",
      "execution_count": null,
      "outputs": []
    },
    {
      "cell_type": "code",
      "source": [
        "#R2 - Coefficient de determinació\n",
        "import numpy\n",
        "\n",
        " \n",
        "corr_matrix = numpy.corrcoef(Y, ya)\n",
        "corr = corr_matrix[0,1]\n",
        "R_sq = corr**2\n",
        " \n",
        "print(R_sq)\n",
        "\n",
        "from sklearn.metrics import r2_score \n",
        "\n",
        "R_square = r2_score(Y, ya) \n",
        "print('Coefficient of Determination', R_square) "
      ],
      "metadata": {
        "id": "kuAB0j0T-HzB"
      },
      "id": "kuAB0j0T-HzB",
      "execution_count": null,
      "outputs": []
    }
  ],
  "metadata": {
    "kernelspec": {
      "display_name": "Python 3 (ipykernel)",
      "language": "python",
      "name": "python3"
    },
    "language_info": {
      "codemirror_mode": {
        "name": "ipython",
        "version": 3
      },
      "file_extension": ".py",
      "mimetype": "text/x-python",
      "name": "python",
      "nbconvert_exporter": "python",
      "pygments_lexer": "ipython3",
      "version": "3.9.7"
    },
    "colab": {
      "name": "Linear Regression 11/06.ipynb",
      "provenance": []
    }
  },
  "nbformat": 4,
  "nbformat_minor": 5
}