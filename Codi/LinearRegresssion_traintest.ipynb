{
  "cells": [
    {
      "cell_type": "code",
      "source": [
        "from google.colab import drive\n",
        "drive.mount('/content/drive')"
      ],
      "metadata": {
        "colab": {
          "base_uri": "https://localhost:8080/"
        },
        "id": "V9H4xucsa4ty",
        "outputId": "5df93b9e-c3c7-4e8f-d75c-21204494aafc"
      },
      "id": "V9H4xucsa4ty",
      "execution_count": 10,
      "outputs": [
        {
          "output_type": "stream",
          "name": "stdout",
          "text": [
            "Drive already mounted at /content/drive; to attempt to forcibly remount, call drive.mount(\"/content/drive\", force_remount=True).\n"
          ]
        }
      ]
    },
    {
      "cell_type": "code",
      "execution_count": null,
      "id": "202a82d5",
      "metadata": {
        "id": "202a82d5"
      },
      "outputs": [],
      "source": [
        "import pandas as pd \n",
        "import numpy as np \n",
        "import datetime as datetime\n",
        "from datetime import timedelta\n",
        "\n",
        "df = pd.read_csv('/content/drive/MyDrive/TFG/PLOTS_16_05/USUARI40S_2.txt',encoding = 'latin-1')\n",
        "df.head()"
      ]
    },
    {
      "cell_type": "markdown",
      "source": [
        "Linear Regression with sklearn\n"
      ],
      "metadata": {
        "id": "vRzEdkZ11YWC"
      },
      "id": "vRzEdkZ11YWC"
    },
    {
      "cell_type": "code",
      "source": [
        "import pandas as pd \n",
        "import numpy as np \n",
        "import datetime as datetime\n",
        "from datetime import timedelta\n",
        "import matplotlib.pyplot as plt\n",
        "\n",
        "dataset = pd.read_csv('/content/drive/MyDrive/TFG/PLOTS/USUARI3_98P.txt',encoding = 'latin-1')\n",
        "dataset.head()\n",
        "\n",
        "X = np.array(dataset.AudFec)\n",
        "Y = np.array(dataset.AudAe1000D)\n",
        "X = pd.to_datetime(X).astype(int)/ 10**9\n",
        "\n",
        "from sklearn.model_selection import train_test_split\n",
        "\n",
        "X_train, X_test, Y_train, Y_test = train_test_split(X,Y, train_size = .7, random_state = 1)"
      ],
      "metadata": {
        "id": "HH7htvo0rEJu"
      },
      "id": "HH7htvo0rEJu",
      "execution_count": null,
      "outputs": []
    },
    {
      "cell_type": "code",
      "source": [
        "print(\"training output values: \\n\", Y_train)\n",
        "print(\"Testing output values:\\n\", Y_test)\n"
      ],
      "metadata": {
        "id": "2G8aniKVsHrH"
      },
      "id": "2G8aniKVsHrH",
      "execution_count": null,
      "outputs": []
    },
    {
      "cell_type": "code",
      "source": [
        "import sklearn\n",
        "# Importing linear regression form sklear\n",
        "from sklearn.linear_model import LinearRegression\n",
        "from sklearn import metrics\n",
        "\n",
        "# initializing the algorithm\n",
        "regressor = LinearRegression()\n",
        "\n",
        "X_train = np.array(X_train)\n",
        "Y_train = np.array(Y_train)\n",
        "\n",
        "X_train = X_train.reshape(-1,1)\n",
        "#Y_train = Y_train.reshape(-1,1)\n",
        "\n",
        "\n",
        "X_test = np.array(X_test)\n",
        "Y_test = np.array(Y_test)\n",
        "\n",
        "X_test = X_test.reshape(-1,1)\n",
        "#Y_test = Y_test.reshape(-1,1)\n",
        "# Fitting Simple Linear Regression to the Training set\n",
        "regressor.fit(X_train, Y_train)\n",
        "\n",
        "# Predicting the Test set results\n",
        "y_pred = regressor.predict(X_test)\n",
        "MSEtest = sklearn.metrics.mean_squared_error(Y_test,y_pred)\n",
        "MAStest = sklearn.metrics.mean_absolute_error(Y_test, y_pred)"
      ],
      "metadata": {
        "id": "zfyRD8jLsYVe"
      },
      "id": "zfyRD8jLsYVe",
      "execution_count": 14,
      "outputs": []
    },
    {
      "cell_type": "markdown",
      "source": [
        "Resultat de MSE, MAE i Coefficient de Determinació"
      ],
      "metadata": {
        "id": "HsBnEKegS3jL"
      },
      "id": "HsBnEKegS3jL"
    },
    {
      "cell_type": "code",
      "source": [
        "\n",
        "print (\"Mean Squared Error\",MSEtest)\n",
        "print (\"Mean Absolute Error\",MAStest)\n",
        "print (\"Coefficient of Determination\",regressor.score(X_test, Y_test))"
      ],
      "metadata": {
        "id": "DhQcWtQ3uHeS"
      },
      "id": "DhQcWtQ3uHeS",
      "execution_count": null,
      "outputs": []
    },
    {
      "cell_type": "markdown",
      "source": [
        "PLOTS\n"
      ],
      "metadata": {
        "id": "7yTXWc9-TBEV"
      },
      "id": "7yTXWc9-TBEV"
    },
    {
      "cell_type": "code",
      "source": [
        "viz_test = plt\n",
        "viz_train = plt\n",
        "\n",
        "#fig= plt.figure(figsize=(6,4))\n",
        "\n",
        "# red dot colors for actual values\n",
        "viz_train.scatter(X_train, Y_train, color='red')\n",
        "viz_test.scatter(X_test, Y_test, color='green')\n",
        "legend = viz_train.legend(['Train','Test'])\n",
        "\n",
        "# Blue line for the predicted values\n",
        "viz_train.plot(X_train, regressor.predict(X_train), color='blue')\n",
        "viz_test.plot(X_test, regressor.predict(X_test), color='blue')\n",
        "\n",
        "# defining the title\n",
        "viz_test.title('Linear Regression train-test freqüècia 8000')\n",
        "\n",
        "# x lable\n",
        "viz_test.xlabel('temps')\n",
        "\n",
        "# y label\n",
        "viz_test.ylabel('freqüècia')\n",
        "viz_test.ylim(-10,120)\n",
        "\n",
        "# showing the graph\n",
        "viz_test.show()\n",
        "\n",
        "#plt.savefig(\"Ejemplo1.jpg\")\n",
        "#plt.savefig(\"High resoltion.png\",dpi=300)"
      ],
      "metadata": {
        "id": "vBYDqZYtleu7"
      },
      "id": "vBYDqZYtleu7",
      "execution_count": null,
      "outputs": []
    },
    {
      "cell_type": "code",
      "source": [
        "import matplotlib.pyplot as plt\n",
        "\n",
        "# Visualizing the Training set results\n",
        "viz_train = plt\n",
        "\n",
        "fig= plt.figure(figsize=(6,4))\n",
        "# ploting the training dataset in scattered graph\n",
        "viz_train.scatter(X_train, Y_train, color='red')\n",
        "\n",
        "# ploting the testing dataset in line line\n",
        "viz_train.plot(X_train, regressor.predict(X_train), color='blue')\n",
        "viz_train.title('Linear Regression train-test freqüència 125')\n",
        "\n",
        "# labeling the input and outputs\n",
        "viz_train.xlabel('temps')\n",
        "viz_train.ylabel('nivell de pressió sonora (db-Hz)')\n",
        "plt.ylim(-10,120)\n",
        "\n",
        "# showing the graph\n",
        "viz_train.show()"
      ],
      "metadata": {
        "id": "dx7iAVfwuZTM"
      },
      "id": "dx7iAVfwuZTM",
      "execution_count": null,
      "outputs": []
    },
    {
      "cell_type": "code",
      "source": [
        "viz_test = plt\n",
        "\n",
        "fig= plt.figure(figsize=(6,4))\n",
        "# red dot colors for actual values\n",
        "viz_test.scatter(X_test, Y_test, color='red')\n",
        "\n",
        "# Blue line for the predicted values\n",
        "viz_test.plot(X_test, regressor.predict(X_test), color='blue')\n",
        "\n",
        "# defining the title\n",
        "viz_test.title('Linear Regression train-test freqüècia 125')\n",
        "\n",
        "# x lable\n",
        "viz_test.xlabel('temps')\n",
        "\n",
        "# y label\n",
        "viz_test.ylabel('freqüècia')\n",
        "viz_test.ylim(-10,120)\n",
        "\n",
        "# showing the graph\n",
        "viz_test.show()\n"
      ],
      "metadata": {
        "id": "kL9Ie4WBuuke"
      },
      "id": "kL9Ie4WBuuke",
      "execution_count": null,
      "outputs": []
    }
  ],
  "metadata": {
    "kernelspec": {
      "display_name": "Python 3 (ipykernel)",
      "language": "python",
      "name": "python3"
    },
    "language_info": {
      "codemirror_mode": {
        "name": "ipython",
        "version": 3
      },
      "file_extension": ".py",
      "mimetype": "text/x-python",
      "name": "python",
      "nbconvert_exporter": "python",
      "pygments_lexer": "ipython3",
      "version": "3.9.7"
    },
    "colab": {
      "name": "LinearRegresssion_traintest.ipynb",
      "provenance": [],
      "collapsed_sections": []
    }
  },
  "nbformat": 4,
  "nbformat_minor": 5
}