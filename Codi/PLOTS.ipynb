{
  "nbformat": 4,
  "nbformat_minor": 0,
  "metadata": {
    "colab": {
      "name": "PLOTS11_06.ipynb",
      "provenance": []
    },
    "kernelspec": {
      "name": "python3",
      "display_name": "Python 3"
    },
    "language_info": {
      "name": "python"
    }
  },
  "cells": [
    {
      "cell_type": "code",
      "source": [
        "from google.colab import drive\n",
        "drive.mount('/content/drive')"
      ],
      "metadata": {
        "colab": {
          "base_uri": "https://localhost:8080/"
        },
        "id": "V9H4xucsa4ty",
        "outputId": "9cb1d1e2-f550-46da-a041-64d76d9294e8"
      },
      "execution_count": 3,
      "outputs": [
        {
          "output_type": "stream",
          "name": "stdout",
          "text": [
            "Drive already mounted at /content/drive; to attempt to forcibly remount, call drive.mount(\"/content/drive\", force_remount=True).\n"
          ]
        }
      ]
    },
    {
      "cell_type": "code",
      "execution_count": null,
      "metadata": {
        "id": "JBGbgZSJxjmX"
      },
      "outputs": [],
      "source": [
        "import pandas as pd \n",
        "import numpy as np \n",
        "from matplotlib import pyplot as plt \n",
        "HI=pd.read_csv('/content/drive/MyDrive/TFG/PLOTS/USUARI3_98P.txt',encoding = 'latin-1')\n",
        "DF = HI.sort_values(by='AudFec', ascending=True)\n",
        "HI.head()"
      ]
    },
    {
      "cell_type": "code",
      "execution_count": null,
      "metadata": {
        "id": "0db94d30"
      },
      "outputs": [],
      "source": [
        "import matplotlib.pyplot as plt\n",
        "# defineixo les variable input o les varibles independents x amb la variable output o variable dependent y \n",
        "X = HI.AudFec\n",
        "Y = HI.AudAe0125D\n",
        "X = pd.to_datetime(X).astype(int)/ 10**9\n",
        "#print(X)\n",
        "#print(Y)\n",
        "\n",
        "np.array(X)\n",
        "#genera M i N de y= mx+n\n",
        "\n",
        "\n",
        "#print(xa)\n",
        "#print(ya)\n",
        "#print(Y)\n",
        "fig = plt.figure()\n",
        "\n",
        "plt.plot(X,Y,'.')\n",
        "plt.ylim(-10,120)\n",
        "\n",
        "plt.xlabel(\"temps\")\n",
        "plt.ylabel(\"nivell de pressió sonora(db-HZ)\")\n",
        "plt.title(\"Plot Freqüència 125\")\n",
        "\n",
        "plt.show()\n",
        "\n"
      ]
    },
    {
      "cell_type": "code",
      "source": [
        "import matplotlib.pyplot as plt\n",
        "# defineixo les variable input o les varibles independents x amb la variable output o variable dependent y \n",
        "X = HI.AudFec\n",
        "Y = HI.AudAe0250D\n",
        "X = pd.to_datetime(X).astype(int)/ 10**9\n",
        "\n",
        "np.array(X)\n",
        "\n",
        "fig = plt.figure()\n",
        "\n",
        "plt.plot(X,Y,'.')\n",
        "plt.ylim(-10,120)\n",
        "\n",
        "plt.xlabel(\"temps\")\n",
        "plt.ylabel(\"nivell de pressió sonora(db-HZ)\")\n",
        "plt.title(\"Plot Freqüència 250\")\n",
        "\n",
        "plt.show()\n"
      ],
      "metadata": {
        "id": "0KE0Z8sVTbRv"
      },
      "execution_count": null,
      "outputs": []
    },
    {
      "cell_type": "code",
      "source": [
        "import matplotlib.pyplot as plt\n",
        "# defineixo les variable input o les varibles independents x amb la variable output o variable dependent y \n",
        "X = HI.AudFec\n",
        "Y = HI.AudAe0500D\n",
        "X = pd.to_datetime(X).astype(int)/ 10**9\n",
        "\n",
        "np.array(X)\n",
        "\n",
        "fig = plt.figure()\n",
        "\n",
        "plt.plot(X,Y,'.')\n",
        "plt.ylim(-10,120)\n",
        "\n",
        "plt.xlabel(\"temps\")\n",
        "plt.ylabel(\"nivell de pressió sonora(db-HZ)\")\n",
        "plt.title(\"Plot Freqüència 500\")\n",
        "\n",
        "plt.show()\n"
      ],
      "metadata": {
        "id": "4Ez038jFTfmp"
      },
      "execution_count": null,
      "outputs": []
    },
    {
      "cell_type": "code",
      "source": [
        "import matplotlib.pyplot as plt\n",
        "# defineixo les variable input o les varibles independents x amb la variable output o variable dependent y \n",
        "X = HI.AudFec\n",
        "Y = HI.AudAe1000D\n",
        "X = pd.to_datetime(X).astype(int)/ 10**9\n",
        "\n",
        "np.array(X)\n",
        "\n",
        "fig = plt.figure()\n",
        "\n",
        "plt.plot(X,Y,'.')\n",
        "plt.ylim(-10,120)\n",
        "\n",
        "plt.xlabel(\"temps\")\n",
        "plt.ylabel(\"nivell de pressió sonora(db-HZ)\")\n",
        "plt.title(\"Plot Freqüència 1000\")\n",
        "\n",
        "plt.show()\n"
      ],
      "metadata": {
        "id": "CXyUF9SSTgNl"
      },
      "execution_count": null,
      "outputs": []
    },
    {
      "cell_type": "code",
      "source": [
        "import matplotlib.pyplot as plt\n",
        "# defineixo les variable input o les varibles independents x amb la variable output o variable dependent y \n",
        "X = HI.AudFec\n",
        "Y = HI.AudAe2000D\n",
        "X = pd.to_datetime(X).astype(int)/ 10**9\n",
        "\n",
        "np.array(X)\n",
        "\n",
        "fig = plt.figure()\n",
        "\n",
        "plt.plot(X,Y,'.')\n",
        "plt.ylim(-10,120)\n",
        "\n",
        "plt.xlabel(\"temps\")\n",
        "plt.ylabel(\"nivell de pressió sonora(db-HZ)\")\n",
        "plt.title(\"Plot Freqüència 2000\")\n",
        "\n",
        "plt.show()\n"
      ],
      "metadata": {
        "id": "Zpj8YY-uTghA"
      },
      "execution_count": null,
      "outputs": []
    },
    {
      "cell_type": "code",
      "source": [
        "import matplotlib.pyplot as plt\n",
        "# defineixo les variable input o les varibles independents x amb la variable output o variable dependent y \n",
        "X = HI.AudFec\n",
        "Y = HI.AudAe4000D\n",
        "X = pd.to_datetime(X).astype(int)/ 10**9\n",
        "\n",
        "np.array(X)\n",
        "\n",
        "fig = plt.figure()\n",
        "\n",
        "plt.plot(X,Y,'.')\n",
        "plt.ylim(-10,120)\n",
        "\n",
        "plt.xlabel(\"temps\")\n",
        "plt.ylabel(\"nivell de pressió sonora(db-HZ)\")\n",
        "plt.title(\"Plot Freqüència 4000\")\n",
        "\n",
        "plt.show()\n"
      ],
      "metadata": {
        "id": "_ePzOYW_Tgs1"
      },
      "execution_count": null,
      "outputs": []
    },
    {
      "cell_type": "code",
      "source": [
        "import matplotlib.pyplot as plt\n",
        "# defineixo les variable input o les varibles independents x amb la variable output o variable dependent y \n",
        "X = HI.AudFec\n",
        "Y = HI.AudAe8000D\n",
        "X = pd.to_datetime(X).astype(int)/ 10**9\n",
        "\n",
        "np.array(X)\n",
        "\n",
        "fig = plt.figure()\n",
        "\n",
        "plt.plot(X,Y,'.')\n",
        "plt.ylim(-10,120)\n",
        "\n",
        "plt.xlabel(\"temps\")\n",
        "plt.ylabel(\"nivell de pressió sonora(db-HZ)\")\n",
        "plt.title(\"Plot Freqüència 8000\")\n",
        "\n",
        "plt.show()\n"
      ],
      "metadata": {
        "id": "zCLS2WhKTg7h"
      },
      "execution_count": null,
      "outputs": []
    }
  ]
}